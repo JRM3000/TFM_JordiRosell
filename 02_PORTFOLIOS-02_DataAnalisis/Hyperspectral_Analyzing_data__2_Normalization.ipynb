{
 "cells": [
  {
   "cell_type": "markdown",
   "id": "34455dea",
   "metadata": {},
   "source": [
    "## 2 Normalización datos\n",
    "\n",
    "Una vez eliminardos los blobs de menor tamaño y los repetidos se procede a la normalización de los tatos para poder set tratados por los procesos de análisis.\n",
    "\n",
    "Para ello se procede a:\n",
    "\n",
    "1. Normalización de la distribución espectral de cada uno del los píxeles\n",
    "2. Extracción de descriptores de la gràfica de distribución espectral de cada uno del los píxeles\n",
    "\n",
    "* **Datos origen:** C:\\Users\\jrosell\\Hyperspectral\\___PFM___\\01_DATASET\\02_DATASET_Pre-Treatment\n",
    "* **Datos destino:** C:\\Users\\jrosell\\Hyperspectral\\___PFM___\\01_DATASET\\03_DATASET_Normalization"
   ]
  },
  {
   "cell_type": "markdown",
   "id": "1a533c3e",
   "metadata": {},
   "source": [
    "### <font color='Orange'> extractDescriptorSignal(fileData)</font>\n",
    "\n",
    "Función que lee el fichero CVS gerado por **Hyperspectral_GUI** cuando se selecciona ***Learn Pattern***. Este fichero contiene la distribución espectral de todos los píxeles segmentados de un Dataset correspondiente a un material específico. Cada registro de un píxel contiene la siguiente información:\n",
    "\n",
    "* columna 0 --> Nº imagen\n",
    "* columna 1 --> Nº blob\n",
    "* columna 2 --> Coordinada Y\n",
    "* columna 3 --> Coordinada X\n",
    "* columna 4:228 --> Distribución espectral (224 bandas)\n",
    "\n",
    "... i devuelve un dataFrame (Pandas) con los siguientes datos:\n",
    "* __Identificadors del píxel__:\n",
    "    * 'image' --> Nº imagen\n",
    "    * 'blob' --> Nº blob\n",
    "    * 'y' --> Coordinada Y\n",
    "    * 'x' --> Coordinada X\n",
    "    \n",
    "* __Signal__:\n",
    "    * '0'-'223' --> Distribución espectral  **NORMALIZADA** (224 bandes)\n",
    "    \n",
    "* __Descriptores__:\n",
    "\t* '01_canviSignePos_NOR' --> \n",
    "\t* '02_canviSigneNeg_NOR' --> \n",
    "\t* '03_Ascendent_NOR' --> \n",
    "\t* '04_Descendent_NOR' --> \n",
    "\t* '05_RelAscentdent_NOR' --> \n",
    "\t* '06_relacioPos_NOR' --> \n",
    "\t* '07_Max_NOR' --> \n",
    "\t* '08_MaxPos_NOR' --> \n",
    "\t* '09_Min_NOR' --> \n",
    "\t* '10_MinPos_NOR' --> \n",
    "\t* '11_RelMaxMin_NOR' --> \n",
    "\t* '12_Max_AllG_NOR' --> \n",
    "\t* '13_MaxPos_AllG_NOR' --> \n",
    "\t* '14_Min_AllG_NOR' --> \n",
    "\t* '15_MinPos_AllG_NOR' --> \n",
    "\t* '16_Max_1aDer_NOR' --> \n",
    "\t* '17_MaxPos_1aDer_NOR' --> \n",
    "\t* '18_Min_1aDer_NOR' --> \n",
    "\t* '19_MinPos_1aDer_NOR' --> \n",
    "\t* '20_StDev_NOR' --> \n",
    "\t* '21_StDev_1aDer_NOR' --> "
   ]
  },
  {
   "cell_type": "code",
   "execution_count": 1,
   "id": "77679d09",
   "metadata": {},
   "outputs": [],
   "source": [
    "from tqdm.notebook import tqdm  #mostra la barra s'estat\n",
    "import matplotlib.pyplot as plt\n",
    "import numpy as np\n",
    "import pandas as pd\n",
    "import math\n",
    "import cv2\n",
    "\n",
    "def extractDescriptorSignal(fileData):\n",
    "\n",
    "    \n",
    "    data= pd.read_csv(fileData, sep='\\t', header=None)\n",
    "    # columna 0 --> Nº imatge\n",
    "    # columna 1 --> Nº blob\n",
    "    # columna 2 --> Coordinada Y\n",
    "    # columna 3 --> Coordinada X\n",
    "    # columna 4:228 --> valor del píxel a conjunt de longituds d'ona (224 bandes)\n",
    "    \n",
    "    '''\n",
    "    # 1.- Número de canvis de signe (+/- i -/+) -imatge normalitzada-\n",
    "    #        x_IR_01_canviSignePos\n",
    "    #        x_IR_01_canviSigneNeg\n",
    "    # 2.- Número de pixels ascendents i en descendents -imatge normalitzada-\n",
    "    #        x_IR_02_Ascendent\n",
    "    #        x_IR_02_Descendent\n",
    "    #        x_IR_02_RelAscentdent  <--- sols fem servir aquest\n",
    "    # 3.- número valors positius vs total  -imatge normalitzada-\n",
    "    #        x_IR_03_relacioPos\n",
    "    # 4.- Posició màxims i mínims \n",
    "    #        x_IR_04_Max\n",
    "    #        x_IR_04_MaxPos\n",
    "    #        x_IR_04_Min\n",
    "    #        x_IR_04_MinPos\n",
    "    #        x_IR_04_RelMaxMin  <--- Relació màxim/minin\n",
    "    #        x_IR_04_Max_AllG\n",
    "    #        x_IR_04_MaxPos_AllG\n",
    "    #        x_IR_04_Min_AllG\n",
    "    #        x_IR_04_MinPos_AllG\n",
    "    # 5.- Posició màxims i mínims 1a derivada\n",
    "    #        x_IR_05_Max_1aDer\n",
    "    #        x_IR_05_MaxPos_1aDer\n",
    "    #        x_IR_05_Min_1aDer\n",
    "    #        x_IR_05_MinPos_1aDer\n",
    "    # 6.- Desviació estardard respecte 0 -imatge normalitzada i 1a derivada-\n",
    "    #        x_IR_06_StDev\n",
    "    #        x_IR_06_StDev_1aDer\n",
    "    '''\n",
    "    D= data.to_numpy()\n",
    "    g_IR = D[:,4:] \n",
    "    Npixels= data.shape[0]          # Npixels --> Número de píxels\n",
    "    Nbandes= len(g_IR[0,:])     # Nbandes -_> Número de bandes\n",
    "\n",
    "    g_IR_norm = np.zeros(g_IR.shape)     # g_IR_norm --> Gràfica bandes IR normalitzada (per cada píxel)\n",
    "    g_IR_deriv = np.zeros(g_IR.shape)    # g_IR_deriv --> Gràfica  1a derivada bandes IR normalitzada (per cada píxel)\n",
    "\n",
    "    x_IR_01_canviSignePos = np.zeros(Npixels)\n",
    "    x_IR_01_canviSigneNeg = np.zeros(Npixels)\n",
    "    x_IR_02_Ascendent = np.zeros(Npixels)\n",
    "    x_IR_02_Descendent = np.zeros(Npixels)\n",
    "    x_IR_02_RelAscentdent = np.zeros(Npixels)\n",
    "    x_IR_03_relacioPos = np.zeros(Npixels) #relació positius/ negatiu\n",
    "    x_IR_04_Max  = np.zeros(Npixels)\n",
    "    x_IR_04_MaxPos  = np.zeros(Npixels)\n",
    "    x_IR_04_Min  = np.zeros(Npixels)\n",
    "    x_IR_04_MinPos  = np.zeros(Npixels)\n",
    "    x_IR_04_RelMaxMin  = np.zeros(Npixels)\n",
    "    x_IR_04_Max_AllG  = np.zeros(Npixels)\n",
    "    x_IR_04_MaxPos_AllG  = np.zeros(Npixels)\n",
    "    x_IR_04_Min_AllG  = np.zeros(Npixels)\n",
    "    x_IR_04_MinPos_AllG  = np.zeros(Npixels)\n",
    "    x_IR_05_Max_1aDer  = np.zeros(Npixels)\n",
    "    x_IR_05_MaxPos_1aDer  = np.zeros(Npixels)\n",
    "    x_IR_05_Min_1aDer  = np.zeros(Npixels)\n",
    "    x_IR_05_MinPos_1aDer  = np.zeros(Npixels)\n",
    "    x_IR_06_StDev = np.zeros(Npixels)\n",
    "    x_IR_06_StDev_1aDer = np.zeros(Npixels)   \n",
    "\n",
    "\n",
    "    for n in tqdm(range(Npixels)):\n",
    "    \n",
    "    #== Normalització de la gràfica (centra la distribució a 0) ===============================================\n",
    "        mean = sum(g_IR[n,:])/Nbandes\n",
    "        g_IR_norm[n]= [(v/mean)-1 for v in g_IR[n]]\n",
    "\n",
    "    #== calcula la primera derivada (centra la distribució a 0) ===============================================\n",
    "        for idx_X in range(3,Nbandes-3):\n",
    "            g_IR_deriv[n][idx_X]= g_IR_norm[n,idx_X-3]+g_IR_norm[n][idx_X-2]+g_IR_norm[n][idx_X-1]-g_IR_norm[n][idx_X+1]-g_IR_norm[n][idx_X+2]-g_IR_norm[n][idx_X+3]\n",
    "\n",
    "    # 1.- Canvis de signe (+/- i -/+) ---------------------------------------------\n",
    "        pos = 0\n",
    "        neg = 0\n",
    "        for idxBanda in range(1,Nbandes):\n",
    "            if g_IR_norm[n][idxBanda-1]<0 and g_IR_norm[n][idxBanda]>=0:\n",
    "                pos += 1\n",
    "            elif g_IR_norm[n][idxBanda-1]>=0 and g_IR_norm[n][idxBanda]<0:\n",
    "                neg +=1\n",
    "        x_IR_01_canviSignePos[n] = pos\n",
    "        x_IR_01_canviSigneNeg[n] = neg\n",
    "\n",
    "\n",
    "    # 2.- Número de pixels ascendents i en descendents ---------------------------------\n",
    "        asc = 0\n",
    "        desc = 0\n",
    "        for idxBanda in range(1,Nbandes):\n",
    "            if g_IR_norm[n][idxBanda-1] < g_IR_norm[n][idxBanda]:\n",
    "                asc += 1\n",
    "            elif g_IR_norm[n][idxBanda-1] > g_IR_norm[n][idxBanda]:\n",
    "                desc +=1\n",
    "        x_IR_02_Ascendent[n] = asc\n",
    "        x_IR_02_Descendent[n] = desc\n",
    "        x_IR_02_RelAscentdent[n] = asc/Nbandes \n",
    "\n",
    "    # 3.- relació número valors positius vs Nbandes -----------------\n",
    "        x_IR_03_relacioPos[n]= len(np.where(g_IR_norm[n,:] > 0)[0])/Nbandes\n",
    "\n",
    "\n",
    "    # 4.- posició max  min  ------------------------------------------------------------\n",
    "        maxPos = 0\n",
    "        maxVal = -100000.0\n",
    "        minPos = 0\n",
    "        minVal = 100000.0\n",
    "        maxPosAll = 0\n",
    "        maxValAll = -100000.0\n",
    "        minPosAll = 0\n",
    "        minValAll = 100000.0    \n",
    "\n",
    "        des = False\n",
    "        asc = False\n",
    "        \n",
    "        for idx in range(1,Nbandes-1):\n",
    "            if  g_IR_norm[n][idx-1] > g_IR_norm[n][idx]:\n",
    "                asc = False\n",
    "                des = True\n",
    "            elif  g_IR_norm[n][idx-1] < g_IR_norm[n][idx]:\n",
    "                asc = True\n",
    "                des = False\n",
    "                \n",
    "\n",
    "            if des and (g_IR_norm[n][idx] < g_IR_norm[n][idx+1]):\n",
    "                if(minVal>g_IR_norm[n][idx]):\n",
    "                    minVal = g_IR_norm[n][idx]\n",
    "                    minPos = idx\n",
    "\n",
    "            elif asc and (g_IR_norm[n][idx] > g_IR_norm[n][idx+1]):\n",
    "                if(maxVal<g_IR_norm[n][idx]):\n",
    "                    maxVal = g_IR_norm[n][idx]\n",
    "                    maxPos = idx\n",
    "\n",
    "            if(maxValAll<g_IR_norm[n][idx]):\n",
    "                maxValAll = g_IR_norm[n][idx]\n",
    "                maxPosAll = idx\n",
    "            if(minValAll>g_IR_norm[n][idx]):\n",
    "                minValAll = g_IR_norm[n][idx]\n",
    "                minPosAll = idx\n",
    "\n",
    "\n",
    "        x_IR_04_Max[n]=maxVal\n",
    "        x_IR_04_MaxPos[n]=maxPos\n",
    "        x_IR_04_Min[n]=minVal\n",
    "        x_IR_04_MinPos[n]=minPos\n",
    "        x_IR_04_RelMaxMin[n] = abs(maxVal/minPos)\n",
    "\n",
    "        x_IR_04_Max_AllG[n]=maxValAll\n",
    "        x_IR_04_MaxPos_AllG[n]=maxPosAll\n",
    "        x_IR_04_Min_AllG[n]=minValAll\n",
    "        x_IR_04_MinPos_AllG[n]=minPosAll  \n",
    "\n",
    "    # 5.- posicio max - 1a derivada -----------------------------------------------------------\n",
    "        maxPos = 0\n",
    "        maxVal = -100000.0\n",
    "        minPos = 0\n",
    "        minVal = 100000.0\n",
    "\n",
    "        for idx in range(1,Nbandes-1):\n",
    "            if  g_IR_deriv[n][idx-1] > g_IR_deriv[n][idx]:\n",
    "                asc = False\n",
    "                des = True\n",
    "            if  g_IR_deriv[n][idx-1] < g_IR_deriv[n][idx]:\n",
    "                asc = True\n",
    "                des = False\n",
    "\n",
    "            if des and (g_IR_deriv[n][idx] < g_IR_deriv[n][idx+1]):\n",
    "                if(minVal>g_IR_deriv[n][idx]):\n",
    "                    minVal = g_IR_deriv[n][idx]\n",
    "                    minPos = idx\n",
    "\n",
    "            elif asc and (g_IR_deriv[n][idx] > g_IR_deriv[n][idx+1]):\n",
    "                if(maxVal<g_IR_deriv[n][idx]):\n",
    "                    maxVal = g_IR_deriv[n][idx]\n",
    "                    maxPos = idx\n",
    "\n",
    "\n",
    "        x_IR_05_Max_1aDer[n]=maxVal\n",
    "        x_IR_05_MaxPos_1aDer[n]=maxPos\n",
    "        x_IR_05_Min_1aDer[n]=minVal\n",
    "        x_IR_05_MinPos_1aDer[n]=minPos\n",
    "\n",
    "    # 6.- Desviació estardard respecte 0 -imatge normalitzada i 1a derivada--------------------------\n",
    "        acum = 0\n",
    "        acum1aDer = 0\n",
    "\n",
    "        for idx in range(Nbandes):\n",
    "            acum +=g_IR_norm[n][idx]**2\n",
    "            acum1aDer +=g_IR_deriv[n][idx]**2\n",
    "\n",
    "        x_IR_06_StDev[n] = math.sqrt(acum/Nbandes)\n",
    "        x_IR_06_StDev_1aDer[n] = math.sqrt(acum1aDer/Nbandes)\n",
    "\n",
    "\n",
    "    #== Dels valors calculats n'elimina dels outliers (segons el percentil)\n",
    "    # De moment no ho aplico, ja que pot set que dins un mateix conjunt, hi hagi element de diferents categories,\n",
    "    # primer intentaré discriminar aplicant un algirsme de clustering, així podria identificar diferents materials\n",
    "    # continguts en un mateix blob (per exemple quan es detecta una empolla amb una etiquera, en el fons està \n",
    "    # detectant dos materials amb un signatura diferent).\n",
    "    # primer intentadé trobar desciptore univalors per tal d'aplicar un clustering que em permeti identificar factors\n",
    "    # discriminants.\n",
    "    # --> maxDvSt = ((np.percentile(x_IR_dvStd, 75)-np.percentile(x_IR_dvStd, 25))*1.5)+np.percentile(x_IR_dvStd, 75)\n",
    "    # --> x_IR_norm = np.delete(x_IR_norm, np.where(x_IR_dvStd>maxDvSt), axis=0)\n",
    "\n",
    "\n",
    "    #== normalitzo les variables al interval [1..-1]\n",
    "\n",
    "    x_IR_01_canviSignePos_NOR = x_IR_01_canviSignePos/max(abs(x_IR_01_canviSignePos))\n",
    "    x_IR_01_canviSigneNeg_NOR = x_IR_01_canviSigneNeg/max(abs(x_IR_01_canviSigneNeg))\n",
    "    x_IR_02_Ascendent_NOR = x_IR_02_Ascendent/max(abs(x_IR_02_Ascendent))\n",
    "    x_IR_02_Descendent_NOR = x_IR_02_Descendent/max(abs(x_IR_02_Descendent))\n",
    "    x_IR_02_RelAscentdent_NOR = x_IR_02_RelAscentdent/max(abs(x_IR_02_RelAscentdent))\n",
    "    x_IR_03_relacioPos_NOR = x_IR_03_relacioPos/max(abs(x_IR_03_relacioPos))\n",
    "    x_IR_04_Max_NOR = x_IR_04_Max/max(abs(x_IR_04_Max))\n",
    "    x_IR_04_MaxPos_NOR = x_IR_04_MaxPos/max(abs(x_IR_04_MaxPos))\n",
    "    x_IR_04_Min_NOR = x_IR_04_Min/max(abs(x_IR_04_Min))\n",
    "    x_IR_04_MinPos_NOR = x_IR_04_MinPos/max(abs(x_IR_04_MinPos))\n",
    "    x_IR_04_RelMaxMin_NOR = x_IR_04_RelMaxMin/max(abs(x_IR_04_RelMaxMin))\n",
    "    x_IR_04_Max_AllG_NOR = x_IR_04_Max_AllG/max(abs(x_IR_04_Max_AllG))\n",
    "    x_IR_04_MaxPos_AllG_NOR = x_IR_04_MaxPos_AllG/max(abs(x_IR_04_MaxPos_AllG))\n",
    "    x_IR_04_Min_AllG_NOR = x_IR_04_Min_AllG/max(abs(x_IR_04_Min_AllG))\n",
    "    x_IR_04_MinPos_AllG_NOR = x_IR_04_MinPos_AllG/max(abs(x_IR_04_MinPos_AllG))\n",
    "    x_IR_05_Max_1aDer_NOR = x_IR_05_Max_1aDer/max(abs(x_IR_05_Max_1aDer))\n",
    "    x_IR_05_MaxPos_1aDer_NOR = x_IR_05_MaxPos_1aDer/max(abs(x_IR_05_MaxPos_1aDer))\n",
    "    x_IR_05_Min_1aDer_NOR = x_IR_05_Min_1aDer/max(abs(x_IR_05_Min_1aDer))\n",
    "    x_IR_05_MinPos_1aDer_NOR = x_IR_05_MinPos_1aDer/max(abs(x_IR_05_MinPos_1aDer))\n",
    "    x_IR_06_StDev_NOR = x_IR_06_StDev/max(abs(x_IR_06_StDev))\n",
    "    x_IR_06_StDev_1aDer_NOR = x_IR_06_StDev_1aDer/max(abs(x_IR_06_StDev_1aDer))  \n",
    "    \n",
    "    \n",
    "    #pdStruct = pd.DataFrame(np.hstack((x_IR_02_RelAscentdent_NOR, x_IR_04_Max_NOR, x_IR_04_MaxPos_NOR)))\n",
    "  #  pdStruct = pd.DataFrame(np.hstack([x_IR_02_RelAscentdent_NOR, x_IR_04_Max_NOR, x_IR_04_MaxPos_NOR]))\n",
    "\n",
    "    dfIdentifiers = pd.DataFrame(D[:,:4])\n",
    "    dfIdentifiers.columns =['image', 'blob', 'y', 'x']\n",
    "    dfIdentifiers.astype('int32').dtypes\n",
    "    \n",
    "    dfDescriptors = pd.DataFrame([x_IR_01_canviSignePos_NOR,x_IR_01_canviSigneNeg_NOR,x_IR_02_Ascendent_NOR,\n",
    "                          x_IR_02_Descendent_NOR,x_IR_02_RelAscentdent_NOR,x_IR_03_relacioPos_NOR,\n",
    "                          x_IR_04_Max_NOR,x_IR_04_MaxPos_NOR,x_IR_04_Min_NOR,x_IR_04_MinPos_NOR,x_IR_04_RelMaxMin_NOR,\n",
    "                          x_IR_04_Max_AllG_NOR,x_IR_04_MaxPos_AllG_NOR,x_IR_04_Min_AllG_NOR,x_IR_04_MinPos_AllG_NOR,\n",
    "                          x_IR_05_Max_1aDer_NOR,x_IR_05_MaxPos_1aDer_NOR,x_IR_05_Min_1aDer_NOR,x_IR_05_MinPos_1aDer_NOR,\n",
    "                          x_IR_06_StDev_NOR,x_IR_06_StDev_1aDer_NOR]).T\n",
    "    dfDescriptors.columns = ['01_canviSignePos_NOR','02_canviSigneNeg_NOR','03_Ascendent_NOR',\n",
    "                             '04_Descendent_NOR','05_RelAscentdent_NOR','06_relacioPos_NOR',\n",
    "                             '07_Max_NOR','08_MaxPos_NOR','09_Min_NOR','10_MinPos_NOR','11_RelMaxMin_NOR',\n",
    "                             '12_Max_AllG_NOR','13_MaxPos_AllG_NOR','14_Min_AllG_NOR','15_MinPos_AllG_NOR',\n",
    "                             '16_Max_1aDer_NOR','17_MaxPos_1aDer_NOR','18_Min_1aDer_NOR','19_MinPos_1aDer_NOR',\n",
    "                             '20_StDev_NOR','21_StDev_1aDer_NOR']\n",
    "    dfSignal  = pd.DataFrame(g_IR_norm)\n",
    "    \n",
    "    dfComplet = pd.concat([dfIdentifiers, dfSignal,dfDescriptors], axis=1)\n",
    "    \n",
    "    return dfComplet"
   ]
  },
  {
   "cell_type": "markdown",
   "id": "68bb07ea",
   "metadata": {},
   "source": [
    "Llamadas para aplicar el filtrado al conjunto de datos iniciales:"
   ]
  },
  {
   "cell_type": "code",
   "execution_count": 2,
   "id": "f1ebf154",
   "metadata": {},
   "outputs": [
    {
     "data": {
      "application/vnd.jupyter.widget-view+json": {
       "model_id": "3f1efb230e8e4dd08a8079e211a5eb97",
       "version_major": 2,
       "version_minor": 0
      },
      "text/plain": [
       "  0%|          | 0/453083 [00:00<?, ?it/s]"
      ]
     },
     "metadata": {},
     "output_type": "display_data"
    },
    {
     "data": {
      "application/vnd.jupyter.widget-view+json": {
       "model_id": "0104dfad56cb4bdaaf3049d52fc12b8d",
       "version_major": 2,
       "version_minor": 0
      },
      "text/plain": [
       "  0%|          | 0/543966 [00:00<?, ?it/s]"
      ]
     },
     "metadata": {},
     "output_type": "display_data"
    },
    {
     "data": {
      "application/vnd.jupyter.widget-view+json": {
       "model_id": "bd8cbf8876da48809a0e142b6baf0aa7",
       "version_major": 2,
       "version_minor": 0
      },
      "text/plain": [
       "  0%|          | 0/73138 [00:00<?, ?it/s]"
      ]
     },
     "metadata": {},
     "output_type": "display_data"
    },
    {
     "data": {
      "application/vnd.jupyter.widget-view+json": {
       "model_id": "5533fd1e598e4453a80a77de0ddc388d",
       "version_major": 2,
       "version_minor": 0
      },
      "text/plain": [
       "  0%|          | 0/328637 [00:00<?, ?it/s]"
      ]
     },
     "metadata": {},
     "output_type": "display_data"
    },
    {
     "data": {
      "application/vnd.jupyter.widget-view+json": {
       "model_id": "88a5417bf4644a179fead869eaa8f69f",
       "version_major": 2,
       "version_minor": 0
      },
      "text/plain": [
       "  0%|          | 0/195577 [00:00<?, ?it/s]"
      ]
     },
     "metadata": {},
     "output_type": "display_data"
    },
    {
     "data": {
      "application/vnd.jupyter.widget-view+json": {
       "model_id": "8cbf92170ee84ccc86e517be33adde01",
       "version_major": 2,
       "version_minor": 0
      },
      "text/plain": [
       "  0%|          | 0/195109 [00:00<?, ?it/s]"
      ]
     },
     "metadata": {},
     "output_type": "display_data"
    },
    {
     "data": {
      "application/vnd.jupyter.widget-view+json": {
       "model_id": "a37e0708bdea4b64a2e2fd121bb4e78e",
       "version_major": 2,
       "version_minor": 0
      },
      "text/plain": [
       "  0%|          | 0/185650 [00:00<?, ?it/s]"
      ]
     },
     "metadata": {},
     "output_type": "display_data"
    },
    {
     "data": {
      "application/vnd.jupyter.widget-view+json": {
       "model_id": "a316f1d3e2844006bede20dce34ed32d",
       "version_major": 2,
       "version_minor": 0
      },
      "text/plain": [
       "  0%|          | 0/308249 [00:00<?, ?it/s]"
      ]
     },
     "metadata": {},
     "output_type": "display_data"
    },
    {
     "data": {
      "application/vnd.jupyter.widget-view+json": {
       "model_id": "72497115e21d4a10b210be76af32ec97",
       "version_major": 2,
       "version_minor": 0
      },
      "text/plain": [
       "  0%|          | 0/176024 [00:00<?, ?it/s]"
      ]
     },
     "metadata": {},
     "output_type": "display_data"
    },
    {
     "data": {
      "application/vnd.jupyter.widget-view+json": {
       "model_id": "be4ba62a92874effa80616fc1af004ea",
       "version_major": 2,
       "version_minor": 0
      },
      "text/plain": [
       "  0%|          | 0/82263 [00:00<?, ?it/s]"
      ]
     },
     "metadata": {},
     "output_type": "display_data"
    },
    {
     "data": {
      "application/vnd.jupyter.widget-view+json": {
       "model_id": "3a59e1cd01db48afac9205f4562d0d73",
       "version_major": 2,
       "version_minor": 0
      },
      "text/plain": [
       "  0%|          | 0/16207 [00:00<?, ?it/s]"
      ]
     },
     "metadata": {},
     "output_type": "display_data"
    },
    {
     "data": {
      "application/vnd.jupyter.widget-view+json": {
       "model_id": "d5b2e4cc813340f68a78243ad72245cf",
       "version_major": 2,
       "version_minor": 0
      },
      "text/plain": [
       "  0%|          | 0/162678 [00:00<?, ?it/s]"
      ]
     },
     "metadata": {},
     "output_type": "display_data"
    },
    {
     "data": {
      "application/vnd.jupyter.widget-view+json": {
       "model_id": "9bae20ac6426408ea88e439d4a384593",
       "version_major": 2,
       "version_minor": 0
      },
      "text/plain": [
       "  0%|          | 0/379740 [00:00<?, ?it/s]"
      ]
     },
     "metadata": {},
     "output_type": "display_data"
    },
    {
     "data": {
      "application/vnd.jupyter.widget-view+json": {
       "model_id": "176f471a595842cc958cb24f0a8bdf37",
       "version_major": 2,
       "version_minor": 0
      },
      "text/plain": [
       "  0%|          | 0/381832 [00:00<?, ?it/s]"
      ]
     },
     "metadata": {},
     "output_type": "display_data"
    },
    {
     "data": {
      "application/vnd.jupyter.widget-view+json": {
       "model_id": "a9d34faf79bc4d65b431c17c7347540d",
       "version_major": 2,
       "version_minor": 0
      },
      "text/plain": [
       "  0%|          | 0/639629 [00:00<?, ?it/s]"
      ]
     },
     "metadata": {},
     "output_type": "display_data"
    },
    {
     "data": {
      "application/vnd.jupyter.widget-view+json": {
       "model_id": "09a9dc1181ca4bc384e04472b8f5aaa1",
       "version_major": 2,
       "version_minor": 0
      },
      "text/plain": [
       "  0%|          | 0/29654 [00:00<?, ?it/s]"
      ]
     },
     "metadata": {},
     "output_type": "display_data"
    },
    {
     "data": {
      "application/vnd.jupyter.widget-view+json": {
       "model_id": "cd1ababfd35c466397c6d420ddaca60d",
       "version_major": 2,
       "version_minor": 0
      },
      "text/plain": [
       "  0%|          | 0/32254 [00:00<?, ?it/s]"
      ]
     },
     "metadata": {},
     "output_type": "display_data"
    },
    {
     "name": "stderr",
     "output_type": "stream",
     "text": [
      "<ipython-input-1-fcb4ae6aa2f5>:160: RuntimeWarning: divide by zero encountered in double_scalars\n",
      "  x_IR_04_RelMaxMin[n] = abs(maxVal/minPos)\n",
      "<ipython-input-1-fcb4ae6aa2f5>:232: RuntimeWarning: invalid value encountered in true_divide\n",
      "  x_IR_04_RelMaxMin_NOR = x_IR_04_RelMaxMin/max(abs(x_IR_04_RelMaxMin))\n"
     ]
    },
    {
     "data": {
      "application/vnd.jupyter.widget-view+json": {
       "model_id": "c9e1da63c26a407184294e8ac7f6bb81",
       "version_major": 2,
       "version_minor": 0
      },
      "text/plain": [
       "  0%|          | 0/2719 [00:00<?, ?it/s]"
      ]
     },
     "metadata": {},
     "output_type": "display_data"
    },
    {
     "data": {
      "application/vnd.jupyter.widget-view+json": {
       "model_id": "a3ced0b2a02f4478869fd09a4687a64a",
       "version_major": 2,
       "version_minor": 0
      },
      "text/plain": [
       "  0%|          | 0/4715 [00:00<?, ?it/s]"
      ]
     },
     "metadata": {},
     "output_type": "display_data"
    },
    {
     "data": {
      "application/vnd.jupyter.widget-view+json": {
       "model_id": "0a3da170014343fd9c12769de41342ce",
       "version_major": 2,
       "version_minor": 0
      },
      "text/plain": [
       "  0%|          | 0/15342 [00:00<?, ?it/s]"
      ]
     },
     "metadata": {},
     "output_type": "display_data"
    },
    {
     "data": {
      "application/vnd.jupyter.widget-view+json": {
       "model_id": "a268c8f60142408da602f7631d69633f",
       "version_major": 2,
       "version_minor": 0
      },
      "text/plain": [
       "  0%|          | 0/32464 [00:00<?, ?it/s]"
      ]
     },
     "metadata": {},
     "output_type": "display_data"
    },
    {
     "data": {
      "application/vnd.jupyter.widget-view+json": {
       "model_id": "f3c30a16b83e4f11a8b7189390343ad1",
       "version_major": 2,
       "version_minor": 0
      },
      "text/plain": [
       "  0%|          | 0/256436 [00:00<?, ?it/s]"
      ]
     },
     "metadata": {},
     "output_type": "display_data"
    },
    {
     "name": "stdout",
     "output_type": "stream",
     "text": [
      "###################### Normalization finished ######################\n"
     ]
    }
   ],
   "source": [
    "import os \n",
    "\n",
    "sourceData = r\"C:\\\\Users\\jrosell\\Hyperspectral\\___PFM___\\01_DATASET\\02_DATASET_Pre_Treatment\"\n",
    "destData = r\"C:\\\\Users\\jrosell\\Hyperspectral\\___PFM___\\01_DATASET\\03_DATASET_Normalization\"\n",
    "\n",
    "\n",
    "dfData = extractDescriptorSignal(os.path.join(sourceData,\"blobs_001_01a_HDPE.csv\"))\n",
    "dfData.to_csv(os.path.join(destData,\"blobs_002_01a_HDPE.csv\"), sep='\\t', index=False)\n",
    "\n",
    "dfData = extractDescriptorSignal(os.path.join(sourceData,\"blobs_001_01b_HDPE_Tricapa.csv\"))\n",
    "dfData.to_csv(os.path.join(destData,\"blobs_002_01b_HDPE_Tricapa.csv\"), sep='\\t', index=False)\n",
    "\n",
    "dfData = extractDescriptorSignal(os.path.join(sourceData,\"blobs_001_02a_PET_BandejaMonocapa.csv\"))\n",
    "dfData.to_csv(os.path.join(destData,\"blobs_002_02a_PET_BandejaMonocapa.csv\"), sep='\\t', index=False)\n",
    "\n",
    "dfData = extractDescriptorSignal(os.path.join(sourceData,\"blobs_001_02b_PET_BandejaMulticapa.csv\"))\n",
    "dfData.to_csv(os.path.join(destData,\"blobs_002_02b_PET_BandejaMulticapa.csv\"), sep='\\t', index=False)\n",
    "\n",
    "dfData = extractDescriptorSignal(os.path.join(sourceData,\"blobs_001_02c_PET_BotellaAzulado.csv\"))\n",
    "dfData.to_csv(os.path.join(destData,\"blobs_002_02c_PET_BotellaAzulado.csv\"), sep='\\t', index=False)\n",
    "\n",
    "dfData = extractDescriptorSignal(os.path.join(sourceData,\"blobs_001_02d_PET_BotellaColor.csv\"))\n",
    "dfData.to_csv(os.path.join(destData,\"blobs_002_02d_PET_BotellaColor.csv\"), sep='\\t', index=False)\n",
    "\n",
    "dfData = extractDescriptorSignal(os.path.join(sourceData,\"blobs_001_02e_PET_BotellaLight.csv\"))\n",
    "dfData.to_csv(os.path.join(destData,\"blobs_002_02e_PET_BotellaLight.csv\"), sep='\\t', index=False)\n",
    "\n",
    "dfData = extractDescriptorSignal(os.path.join(sourceData,\"blobs_001_03a_PP.csv\"))\n",
    "dfData.to_csv(os.path.join(destData,\"blobs_002_03a_PP.csv\"), sep='\\t', index=False)\n",
    "\n",
    "dfData = extractDescriptorSignal(os.path.join(sourceData,\"blobs_001_03b_PP_Film.csv\"))\n",
    "dfData.to_csv(os.path.join(destData,\"blobs_002_03b_PP_Film.csv\"), sep='\\t', index=False)\n",
    "\n",
    "dfData = extractDescriptorSignal(os.path.join(sourceData,\"blobs_001_04a_PS.csv\"))\n",
    "dfData.to_csv(os.path.join(destData,\"blobs_002_04a_PS.csv\"), sep='\\t', index=False)\n",
    "\n",
    "dfData = extractDescriptorSignal(os.path.join(sourceData,\"blobs_001_05a_PVC.csv\"))\n",
    "dfData.to_csv(os.path.join(destData,\"blobs_002_05a_PVC.csv\"), sep='\\t', index=False)\n",
    "\n",
    "dfData = extractDescriptorSignal(os.path.join(sourceData,\"blobs_001_06a_Cartoncillo.csv\"))\n",
    "dfData.to_csv(os.path.join(destData,\"blobs_002_06a_Cartoncillo.csv\"), sep='\\t', index=False)\n",
    "\n",
    "dfData = extractDescriptorSignal(os.path.join(sourceData,\"blobs_001_06b_CartonColor.csv\"))\n",
    "dfData.to_csv(os.path.join(destData,\"blobs_002_06b_CartonColor.csv\"), sep='\\t', index=False)\n",
    "\n",
    "dfData = extractDescriptorSignal(os.path.join(sourceData,\"blobs_001_06c_CartonMarron.csv\"))\n",
    "dfData.to_csv(os.path.join(destData,\"blobs_002_06c_CartonMarron.csv\"), sep='\\t', index=False)\n",
    "\n",
    "dfData = extractDescriptorSignal(os.path.join(sourceData,\"blobs_001_06d_Papel.csv\"))\n",
    "dfData.to_csv(os.path.join(destData,\"blobs_002_06d_Papel.csv\"), sep='\\t', index=False)\n",
    "\n",
    "dfData = extractDescriptorSignal(os.path.join(sourceData,\"blobs_001_07a_Latas_MetalFerrico.csv\"))\n",
    "dfData.to_csv(os.path.join(destData,\"blobs_002_07a_Latas_MetalFerrico.csv\"), sep='\\t', index=False)\n",
    "\n",
    "dfData = extractDescriptorSignal(os.path.join(sourceData,\"blobs_001_07b_Latas_MetalNoFerrico.csv\"))\n",
    "dfData.to_csv(os.path.join(destData,\"blobs_002_07b_Latas_MetalNoFerrico.csv\"), sep='\\t', index=False)\n",
    "\n",
    "dfData = extractDescriptorSignal(os.path.join(sourceData,\"blobs_001_08a_Impropio_Ferrico.csv\"))\n",
    "dfData.to_csv(os.path.join(destData,\"blobs_002_08a_Impropio_Ferrico.csv\"), sep='\\t', index=False)\n",
    "\n",
    "dfData = extractDescriptorSignal(os.path.join(sourceData,\"blobs_001_08b_Impropio_NoFerrico.csv\"))\n",
    "dfData.to_csv(os.path.join(destData,\"blobs_002_08b_Impropio_NoFerrico.csv\"), sep='\\t', index=False)\n",
    "\n",
    "dfData = extractDescriptorSignal(os.path.join(sourceData,\"blobs_001_08c_Impropio_Madera.csv\"))\n",
    "dfData.to_csv(os.path.join(destData,\"blobs_002_08c_Impropio_Madera.csv\"), sep='\\t', index=False)\n",
    "\n",
    "dfData = extractDescriptorSignal(os.path.join(sourceData,\"blobs_001_08d_Impropio_OrganicoHojas.csv\"))\n",
    "dfData.to_csv(os.path.join(destData,\"blobs_002_08d_Impropio_OrganicoHojas.csv\"), sep='\\t', index=False)\n",
    "\n",
    "dfData = extractDescriptorSignal(os.path.join(sourceData,\"blobs_001_08e_Impropio_Textil.csv\"))\n",
    "dfData.to_csv(os.path.join(destData,\"blobs_002_08e_Impropio_Textil.csv\"), sep='\\t', index=False)\n",
    "\n",
    "print(\"###################### Normalization finished ######################\")"
   ]
  }
 ],
 "metadata": {
  "kernelspec": {
   "display_name": "Python 3",
   "language": "python",
   "name": "python3"
  },
  "language_info": {
   "codemirror_mode": {
    "name": "ipython",
    "version": 3
   },
   "file_extension": ".py",
   "mimetype": "text/x-python",
   "name": "python",
   "nbconvert_exporter": "python",
   "pygments_lexer": "ipython3",
   "version": "3.8.8"
  }
 },
 "nbformat": 4,
 "nbformat_minor": 5
}
