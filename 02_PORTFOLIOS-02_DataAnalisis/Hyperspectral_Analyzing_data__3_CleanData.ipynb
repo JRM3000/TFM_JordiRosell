{
 "cells": [
  {
   "cell_type": "markdown",
   "id": "19a5a3a4",
   "metadata": {},
   "source": [
    "## 3 Limpiar datos\n",
    "\n",
    "Se procede a analizar el cojunto de blobs para eliminar los que pueden contener outliers que puedan falsear la búsqueda de patrones. Por lo que debemos eliminar:\n",
    "\n",
    "* Los blobs que puedan contener mas de un tipo de material (etiquetas, tapones, etc...)\n",
    "\n",
    "Esta eliminación debe hacerse de forma totalmente automàtica. El limpiado de datos de ejecutar una pasadas:\n",
    "\n",
    "1. Eliminar los blobs que contengan mas de un material\n",
    "\n",
    "Para ello se procede a la detección de ***outliers*** con tècnicas de anàlisis de **desviación estandard** y **clustening**\n"
   ]
  },
  {
   "cell_type": "code",
   "execution_count": 5,
   "id": "cbb62094",
   "metadata": {},
   "outputs": [],
   "source": [
    "from tqdm.notebook import tqdm  #mostra la barra s'estat\n",
    "from statsmodels.stats.diagnostic import lilliefors\n",
    "from scipy import stats\n",
    "from pathlib import Path\n",
    "import pandas as pd\n",
    "import numpy as np\n",
    "\n",
    "def cleanData(fileData,showLogs=False):\n",
    "\n",
    "    THRES_shapiro = 0.91\n",
    "    THRES_lilliefors = 0.08\n",
    "\n",
    "    dataOutPRE = pd.DataFrame()\n",
    "    dataOut = pd.DataFrame()\n",
    "    dataBlobs= pd.read_csv(fileData, sep='\\t')\n",
    "\n",
    "    groups= dataBlobs.groupby([\"image\",\"blob\"]) #Imagen + blob\n",
    "    keys = groups.groups.keys()\n",
    "    nAllBlobs = len(keys)\n",
    "    nMixMaterialsBlobs = 0\n",
    "    nRepresentativeBlobs = 0\n",
    "\n",
    "    for idx, key in enumerate(tqdm(keys)):    \n",
    "        dataBlob = groups.get_group(key)\n",
    "        \n",
    "        limInf = np.percentile(dataBlob['20_StDev_NOR'],5)\n",
    "        limSup = np.percentile(dataBlob['20_StDev_NOR'],95)\n",
    "        dataBlob= dataBlob.drop(dataBlob[(dataBlob['20_StDev_NOR']>limSup) | (dataBlob['20_StDev_NOR']<limInf)].index)\n",
    "        \n",
    "        stat1, p1 = stats.shapiro(pd.DataFrame(dataBlob['20_StDev_NOR']))\n",
    "        stat2, p2 = lilliefors(dataBlob['20_StDev_NOR'])\n",
    "\n",
    "        if stat1>THRES_shapiro and stat2<THRES_lilliefors:\n",
    "            nRepresentativeBlobs +=1\n",
    "\n",
    "            dataOutPRE = pd.concat([dataOutPRE, dataBlob], ignore_index=True, sort=False)\n",
    "#            print(dataBlob['20_StDev_NOR'].mean())\n",
    "            #w = sns.histplot(color= \"red\",data=pd.DataFrame(dataBlob['20_StDev_NOR']), kde=True, stat='density',ax=axes[0]).set(title=str(key)+\"## OK ##\")\n",
    "        else:\n",
    "            nMixMaterialsBlobs += 1\n",
    "\n",
    "    if showLogs:\n",
    "        print(\"Data File: \",Path(fileData).name)\n",
    "        print(\"All Blobs: \",nAllBlobs,\"  Representative blobs:\",nRepresentativeBlobs,\"  (Discarded : \"+str(nAllBlobs-nRepresentativeBlobs)+\")\",end='\\n\\n')\n",
    "\n",
    "    return dataOutPRE"
   ]
  },
  {
   "cell_type": "markdown",
   "id": "c6c3dd9f",
   "metadata": {},
   "source": [
    "Llamadas para aplicar el filtrado al conjunto de datos iniciales:"
   ]
  },
  {
   "cell_type": "code",
   "execution_count": 6,
   "id": "f5603eda",
   "metadata": {},
   "outputs": [
    {
     "data": {
      "application/vnd.jupyter.widget-view+json": {
       "model_id": "4e50e26e91d5440f9476a27eca72d5cc",
       "version_major": 2,
       "version_minor": 0
      },
      "text/plain": [
       "  0%|          | 0/774 [00:00<?, ?it/s]"
      ]
     },
     "metadata": {},
     "output_type": "display_data"
    },
    {
     "name": "stdout",
     "output_type": "stream",
     "text": [
      "Data File:  blobs_002_01a_HDPE.csv\n",
      "All Blobs:  774   Representative blobs: 258   (Discarded : 516)\n",
      "\n"
     ]
    },
    {
     "data": {
      "application/vnd.jupyter.widget-view+json": {
       "model_id": "b0940695c16d4932a2aca394970b1d30",
       "version_major": 2,
       "version_minor": 0
      },
      "text/plain": [
       "  0%|          | 0/1414 [00:00<?, ?it/s]"
      ]
     },
     "metadata": {},
     "output_type": "display_data"
    },
    {
     "name": "stdout",
     "output_type": "stream",
     "text": [
      "Data File:  blobs_002_01b_HDPE_Tricapa.csv\n",
      "All Blobs:  1414   Representative blobs: 618   (Discarded : 796)\n",
      "\n"
     ]
    },
    {
     "data": {
      "application/vnd.jupyter.widget-view+json": {
       "model_id": "df2e383793044a2793995eb038bc55e7",
       "version_major": 2,
       "version_minor": 0
      },
      "text/plain": [
       "  0%|          | 0/206 [00:00<?, ?it/s]"
      ]
     },
     "metadata": {},
     "output_type": "display_data"
    },
    {
     "name": "stdout",
     "output_type": "stream",
     "text": [
      "Data File:  blobs_002_02a_PET_BandejaMonocapa.csv\n",
      "All Blobs:  206   Representative blobs: 105   (Discarded : 101)\n",
      "\n"
     ]
    },
    {
     "data": {
      "application/vnd.jupyter.widget-view+json": {
       "model_id": "c9ed43b1c0bc4c90ac2742605b32a142",
       "version_major": 2,
       "version_minor": 0
      },
      "text/plain": [
       "  0%|          | 0/1080 [00:00<?, ?it/s]"
      ]
     },
     "metadata": {},
     "output_type": "display_data"
    },
    {
     "name": "stdout",
     "output_type": "stream",
     "text": [
      "Data File:  blobs_002_02b_PET_BandejaMulticapa.csv\n",
      "All Blobs:  1080   Representative blobs: 386   (Discarded : 694)\n",
      "\n"
     ]
    },
    {
     "data": {
      "application/vnd.jupyter.widget-view+json": {
       "model_id": "ea35f4ab610e4348bc660714f1ceecf7",
       "version_major": 2,
       "version_minor": 0
      },
      "text/plain": [
       "  0%|          | 0/534 [00:00<?, ?it/s]"
      ]
     },
     "metadata": {},
     "output_type": "display_data"
    },
    {
     "name": "stdout",
     "output_type": "stream",
     "text": [
      "Data File:  blobs_002_02c_PET_BotellaAzulado.csv\n",
      "All Blobs:  534   Representative blobs: 223   (Discarded : 311)\n",
      "\n"
     ]
    },
    {
     "data": {
      "application/vnd.jupyter.widget-view+json": {
       "model_id": "af99ccb0699943768c6a5fb20fff9daa",
       "version_major": 2,
       "version_minor": 0
      },
      "text/plain": [
       "  0%|          | 0/629 [00:00<?, ?it/s]"
      ]
     },
     "metadata": {},
     "output_type": "display_data"
    },
    {
     "name": "stdout",
     "output_type": "stream",
     "text": [
      "Data File:  blobs_002_02d_PET_BotellaColor.csv\n",
      "All Blobs:  629   Representative blobs: 252   (Discarded : 377)\n",
      "\n"
     ]
    },
    {
     "data": {
      "application/vnd.jupyter.widget-view+json": {
       "model_id": "3b0b994fd3ca43b99b21e2cb9ccb962a",
       "version_major": 2,
       "version_minor": 0
      },
      "text/plain": [
       "  0%|          | 0/652 [00:00<?, ?it/s]"
      ]
     },
     "metadata": {},
     "output_type": "display_data"
    },
    {
     "name": "stdout",
     "output_type": "stream",
     "text": [
      "Data File:  blobs_002_02e_PET_BotellaLight.csv\n",
      "All Blobs:  652   Representative blobs: 254   (Discarded : 398)\n",
      "\n"
     ]
    },
    {
     "data": {
      "application/vnd.jupyter.widget-view+json": {
       "model_id": "b81520e7ceed4a91bf0beec1a07a00eb",
       "version_major": 2,
       "version_minor": 0
      },
      "text/plain": [
       "  0%|          | 0/1069 [00:00<?, ?it/s]"
      ]
     },
     "metadata": {},
     "output_type": "display_data"
    },
    {
     "name": "stdout",
     "output_type": "stream",
     "text": [
      "Data File:  blobs_002_03a_PP.csv\n",
      "All Blobs:  1069   Representative blobs: 472   (Discarded : 597)\n",
      "\n"
     ]
    },
    {
     "data": {
      "application/vnd.jupyter.widget-view+json": {
       "model_id": "739f72c440ee4a968f7c66f6e24f333b",
       "version_major": 2,
       "version_minor": 0
      },
      "text/plain": [
       "  0%|          | 0/444 [00:00<?, ?it/s]"
      ]
     },
     "metadata": {},
     "output_type": "display_data"
    },
    {
     "name": "stdout",
     "output_type": "stream",
     "text": [
      "Data File:  blobs_002_03b_PP_Film.csv\n",
      "All Blobs:  444   Representative blobs: 247   (Discarded : 197)\n",
      "\n"
     ]
    },
    {
     "data": {
      "application/vnd.jupyter.widget-view+json": {
       "model_id": "88c6b500b5c440b48a1b6d975bb5bba1",
       "version_major": 2,
       "version_minor": 0
      },
      "text/plain": [
       "  0%|          | 0/332 [00:00<?, ?it/s]"
      ]
     },
     "metadata": {},
     "output_type": "display_data"
    },
    {
     "name": "stdout",
     "output_type": "stream",
     "text": [
      "Data File:  blobs_002_04a_PS.csv\n",
      "All Blobs:  332   Representative blobs: 132   (Discarded : 200)\n",
      "\n"
     ]
    },
    {
     "data": {
      "application/vnd.jupyter.widget-view+json": {
       "model_id": "2018f66e0eb94f5bbfc0f71cdc2dad39",
       "version_major": 2,
       "version_minor": 0
      },
      "text/plain": [
       "  0%|          | 0/61 [00:00<?, ?it/s]"
      ]
     },
     "metadata": {},
     "output_type": "display_data"
    },
    {
     "name": "stdout",
     "output_type": "stream",
     "text": [
      "Data File:  blobs_002_05a_PVC.csv\n",
      "All Blobs:  61   Representative blobs: 34   (Discarded : 27)\n",
      "\n"
     ]
    },
    {
     "data": {
      "application/vnd.jupyter.widget-view+json": {
       "model_id": "25723f9ad56145398ece68f5b571e741",
       "version_major": 2,
       "version_minor": 0
      },
      "text/plain": [
       "  0%|          | 0/329 [00:00<?, ?it/s]"
      ]
     },
     "metadata": {},
     "output_type": "display_data"
    },
    {
     "name": "stdout",
     "output_type": "stream",
     "text": [
      "Data File:  blobs_002_06a_Cartoncillo.csv\n",
      "All Blobs:  329   Representative blobs: 105   (Discarded : 224)\n",
      "\n"
     ]
    },
    {
     "data": {
      "application/vnd.jupyter.widget-view+json": {
       "model_id": "0e2fc60ad2cc46aebbcd70de77ddf114",
       "version_major": 2,
       "version_minor": 0
      },
      "text/plain": [
       "  0%|          | 0/519 [00:00<?, ?it/s]"
      ]
     },
     "metadata": {},
     "output_type": "display_data"
    },
    {
     "name": "stdout",
     "output_type": "stream",
     "text": [
      "Data File:  blobs_002_06b_CartonColor.csv\n",
      "All Blobs:  519   Representative blobs: 173   (Discarded : 346)\n",
      "\n"
     ]
    },
    {
     "data": {
      "application/vnd.jupyter.widget-view+json": {
       "model_id": "932714f7c91a431bbd99c983b0f60314",
       "version_major": 2,
       "version_minor": 0
      },
      "text/plain": [
       "  0%|          | 0/528 [00:00<?, ?it/s]"
      ]
     },
     "metadata": {},
     "output_type": "display_data"
    },
    {
     "name": "stdout",
     "output_type": "stream",
     "text": [
      "Data File:  blobs_002_06c_CartonMarron.csv\n",
      "All Blobs:  528   Representative blobs: 203   (Discarded : 325)\n",
      "\n"
     ]
    },
    {
     "data": {
      "application/vnd.jupyter.widget-view+json": {
       "model_id": "e22cb06c11234de1a60869589c719cfe",
       "version_major": 2,
       "version_minor": 0
      },
      "text/plain": [
       "  0%|          | 0/823 [00:00<?, ?it/s]"
      ]
     },
     "metadata": {},
     "output_type": "display_data"
    },
    {
     "name": "stdout",
     "output_type": "stream",
     "text": [
      "Data File:  blobs_002_06d_Papel.csv\n",
      "All Blobs:  823   Representative blobs: 269   (Discarded : 554)\n",
      "\n"
     ]
    },
    {
     "data": {
      "application/vnd.jupyter.widget-view+json": {
       "model_id": "c658630b7c3644f3a24059727081b39c",
       "version_major": 2,
       "version_minor": 0
      },
      "text/plain": [
       "  0%|          | 0/237 [00:00<?, ?it/s]"
      ]
     },
     "metadata": {},
     "output_type": "display_data"
    },
    {
     "name": "stdout",
     "output_type": "stream",
     "text": [
      "Data File:  blobs_002_07a_Latas_MetalFerrico.csv\n",
      "All Blobs:  237   Representative blobs: 43   (Discarded : 194)\n",
      "\n"
     ]
    },
    {
     "data": {
      "application/vnd.jupyter.widget-view+json": {
       "model_id": "3ba30dd212c942c5bf8d7b15d965053d",
       "version_major": 2,
       "version_minor": 0
      },
      "text/plain": [
       "  0%|          | 0/255 [00:00<?, ?it/s]"
      ]
     },
     "metadata": {},
     "output_type": "display_data"
    },
    {
     "name": "stdout",
     "output_type": "stream",
     "text": [
      "Data File:  blobs_002_07b_Latas_MetalNoFerrico.csv\n",
      "All Blobs:  255   Representative blobs: 137   (Discarded : 118)\n",
      "\n"
     ]
    },
    {
     "data": {
      "application/vnd.jupyter.widget-view+json": {
       "model_id": "0148b5938294447ba0fedd1f8accd64f",
       "version_major": 2,
       "version_minor": 0
      },
      "text/plain": [
       "  0%|          | 0/12 [00:00<?, ?it/s]"
      ]
     },
     "metadata": {},
     "output_type": "display_data"
    },
    {
     "name": "stdout",
     "output_type": "stream",
     "text": [
      "Data File:  blobs_002_08a_Impropio_Ferrico.csv\n",
      "All Blobs:  12   Representative blobs: 4   (Discarded : 8)\n",
      "\n"
     ]
    },
    {
     "data": {
      "application/vnd.jupyter.widget-view+json": {
       "model_id": "4dadb9add20a4e9888f16f0f404342f2",
       "version_major": 2,
       "version_minor": 0
      },
      "text/plain": [
       "  0%|          | 0/38 [00:00<?, ?it/s]"
      ]
     },
     "metadata": {},
     "output_type": "display_data"
    },
    {
     "name": "stdout",
     "output_type": "stream",
     "text": [
      "Data File:  blobs_002_08b_Impropio_NoFerrico.csv\n",
      "All Blobs:  38   Representative blobs: 21   (Discarded : 17)\n",
      "\n"
     ]
    },
    {
     "data": {
      "application/vnd.jupyter.widget-view+json": {
       "model_id": "9af1ff6010db4f9a9dee3375b7e12e72",
       "version_major": 2,
       "version_minor": 0
      },
      "text/plain": [
       "  0%|          | 0/60 [00:00<?, ?it/s]"
      ]
     },
     "metadata": {},
     "output_type": "display_data"
    },
    {
     "name": "stdout",
     "output_type": "stream",
     "text": [
      "Data File:  blobs_002_08c_Impropio_Madera.csv\n",
      "All Blobs:  60   Representative blobs: 27   (Discarded : 33)\n",
      "\n"
     ]
    },
    {
     "data": {
      "application/vnd.jupyter.widget-view+json": {
       "model_id": "e46099dcfe52480c8eb28110f1ae3a2a",
       "version_major": 2,
       "version_minor": 0
      },
      "text/plain": [
       "  0%|          | 0/161 [00:00<?, ?it/s]"
      ]
     },
     "metadata": {},
     "output_type": "display_data"
    },
    {
     "name": "stdout",
     "output_type": "stream",
     "text": [
      "Data File:  blobs_002_08d_Impropio_OrganicoHojas.csv\n",
      "All Blobs:  161   Representative blobs: 67   (Discarded : 94)\n",
      "\n"
     ]
    },
    {
     "data": {
      "application/vnd.jupyter.widget-view+json": {
       "model_id": "1f6a621a4e244bd3a62327dc474b77f5",
       "version_major": 2,
       "version_minor": 0
      },
      "text/plain": [
       "  0%|          | 0/141 [00:00<?, ?it/s]"
      ]
     },
     "metadata": {},
     "output_type": "display_data"
    },
    {
     "name": "stderr",
     "output_type": "stream",
     "text": [
      "C:\\ProgramData\\Anaconda3\\lib\\site-packages\\scipy\\stats\\morestats.py:1681: UserWarning: p-value may not be accurate for N > 5000.\n",
      "  warnings.warn(\"p-value may not be accurate for N > 5000.\")\n",
      "C:\\ProgramData\\Anaconda3\\lib\\site-packages\\scipy\\stats\\morestats.py:1681: UserWarning: p-value may not be accurate for N > 5000.\n",
      "  warnings.warn(\"p-value may not be accurate for N > 5000.\")\n"
     ]
    },
    {
     "name": "stdout",
     "output_type": "stream",
     "text": [
      "Data File:  blobs_002_08e_Impropio_Textil.csv\n",
      "All Blobs:  141   Representative blobs: 95   (Discarded : 46)\n",
      "\n"
     ]
    }
   ],
   "source": [
    "import os \n",
    "\n",
    "sourceData = r\"C:\\\\Users\\jrosell\\Hyperspectral\\___PFM___\\01_DATASET\\03_DATASET_Normalization\"\n",
    "destData = r\"C:\\\\Users\\jrosell\\Hyperspectral\\___PFM___\\01_DATASET\\04_DATASET_OnlyOneMaterial\"\n",
    "\n",
    "\n",
    "dfData = cleanData(os.path.join(sourceData,\"blobs_002_01a_HDPE.csv\"),showLogs=True)\n",
    "dfData.to_csv(os.path.join(destData,\"blobs_003_01a_HDPE.csv\"), sep='\\t', index=False)\n",
    "\n",
    "dfData = cleanData(os.path.join(sourceData,\"blobs_002_01b_HDPE_Tricapa.csv\"),showLogs=True)\n",
    "dfData.to_csv(os.path.join(destData,\"blobs_003_01b_HDPE_Tricapa.csv\"), sep='\\t', index=False)\n",
    "\n",
    "dfData = cleanData(os.path.join(sourceData,\"blobs_002_02a_PET_BandejaMonocapa.csv\"),showLogs=True)\n",
    "dfData.to_csv(os.path.join(destData,\"blobs_003_02a_PET_BandejaMonocapa.csv\"), sep='\\t', index=False)\n",
    "\n",
    "dfData = cleanData(os.path.join(sourceData,\"blobs_002_02b_PET_BandejaMulticapa.csv\"),showLogs=True)\n",
    "dfData.to_csv(os.path.join(destData,\"blobs_003_02b_PET_BandejaMulticapa.csv\"), sep='\\t', index=False)\n",
    "\n",
    "dfData = cleanData(os.path.join(sourceData,\"blobs_002_02c_PET_BotellaAzulado.csv\"),showLogs=True)\n",
    "dfData.to_csv(os.path.join(destData,\"blobs_003_02c_PET_BotellaAzulado.csv\"), sep='\\t', index=False)\n",
    "\n",
    "dfData = cleanData(os.path.join(sourceData,\"blobs_002_02d_PET_BotellaColor.csv\"),showLogs=True)\n",
    "dfData.to_csv(os.path.join(destData,\"blobs_003_02d_PET_BotellaColor.csv\"), sep='\\t', index=False)\n",
    "\n",
    "dfData = cleanData(os.path.join(sourceData,\"blobs_002_02e_PET_BotellaLight.csv\"),showLogs=True)\n",
    "dfData.to_csv(os.path.join(destData,\"blobs_003_02e_PET_BotellaLight.csv\"), sep='\\t', index=False)\n",
    "\n",
    "dfData = cleanData(os.path.join(sourceData,\"blobs_002_03a_PP.csv\"),showLogs=True)\n",
    "dfData.to_csv(os.path.join(destData,\"blobs_003_03a_PP.csv\"), sep='\\t', index=False)\n",
    "\n",
    "dfData = cleanData(os.path.join(sourceData,\"blobs_002_03b_PP_Film.csv\"),showLogs=True)\n",
    "dfData.to_csv(os.path.join(destData,\"blobs_003_03b_PP_Film.csv\"), sep='\\t', index=False)\n",
    "\n",
    "dfData = cleanData(os.path.join(sourceData,\"blobs_002_04a_PS.csv\"),showLogs=True)\n",
    "dfData.to_csv(os.path.join(destData,\"blobs_003_04a_PS.csv\"), sep='\\t', index=False)\n",
    "\n",
    "dfData = cleanData(os.path.join(sourceData,\"blobs_002_05a_PVC.csv\"),showLogs=True)\n",
    "dfData.to_csv(os.path.join(destData,\"blobs_003_05a_PVC.csv\"), sep='\\t', index=False)\n",
    "\n",
    "dfData = cleanData(os.path.join(sourceData,\"blobs_002_06a_Cartoncillo.csv\"),showLogs=True)\n",
    "dfData.to_csv(os.path.join(destData,\"blobs_003_06a_Cartoncillo.csv\"), sep='\\t', index=False)\n",
    "\n",
    "dfData = cleanData(os.path.join(sourceData,\"blobs_002_06b_CartonColor.csv\"),showLogs=True)\n",
    "dfData.to_csv(os.path.join(destData,\"blobs_003_06b_CartonColor.csv\"), sep='\\t', index=False)\n",
    "\n",
    "dfData = cleanData(os.path.join(sourceData,\"blobs_002_06c_CartonMarron.csv\"),showLogs=True)\n",
    "dfData.to_csv(os.path.join(destData,\"blobs_003_06c_CartonMarron.csv\"), sep='\\t', index=False)\n",
    "\n",
    "dfData = cleanData(os.path.join(sourceData,\"blobs_002_06d_Papel.csv\"),showLogs=True)\n",
    "dfData.to_csv(os.path.join(destData,\"blobs_003_06d_Papel.csv\"), sep='\\t', index=False)\n",
    "\n",
    "dfData = cleanData(os.path.join(sourceData,\"blobs_002_07a_Latas_MetalFerrico.csv\"),showLogs=True)\n",
    "dfData.to_csv(os.path.join(destData,\"blobs_003_07a_Latas_MetalFerrico.csv\"), sep='\\t', index=False)\n",
    "\n",
    "dfData = cleanData(os.path.join(sourceData,\"blobs_002_07b_Latas_MetalNoFerrico.csv\"),showLogs=True)\n",
    "dfData.to_csv(os.path.join(destData,\"blobs_003_07b_Latas_MetalNoFerrico.csv\"), sep='\\t', index=False)\n",
    "\n",
    "dfData = cleanData(os.path.join(sourceData,\"blobs_002_08a_Impropio_Ferrico.csv\"),showLogs=True)\n",
    "dfData.to_csv(os.path.join(destData,\"blobs_003_08a_Impropio_Ferrico.csv\"), sep='\\t', index=False)\n",
    "\n",
    "dfData = cleanData(os.path.join(sourceData,\"blobs_002_08b_Impropio_NoFerrico.csv\"),showLogs=True)\n",
    "dfData.to_csv(os.path.join(destData,\"blobs_003_08b_Impropio_NoFerrico.csv\"), sep='\\t', index=False)\n",
    "\n",
    "dfData = cleanData(os.path.join(sourceData,\"blobs_002_08c_Impropio_Madera.csv\"),showLogs=True)\n",
    "dfData.to_csv(os.path.join(destData,\"blobs_003_08c_Impropio_Madera.csv\"), sep='\\t', index=False)\n",
    "\n",
    "dfData = cleanData(os.path.join(sourceData,\"blobs_002_08d_Impropio_OrganicoHojas.csv\"),showLogs=True)\n",
    "dfData.to_csv(os.path.join(destData,\"blobs_003_08d_Impropio_OrganicoHojas.csv\"), sep='\\t', index=False)\n",
    "\n",
    "dfData = cleanData(os.path.join(sourceData,\"blobs_002_08e_Impropio_Textil.csv\"),showLogs=True)\n",
    "dfData.to_csv(os.path.join(destData,\"blobs_003_08e_Impropio_Textil.csv\"), sep='\\t', index=False)\n"
   ]
  }
 ],
 "metadata": {
  "kernelspec": {
   "display_name": "Python 3",
   "language": "python",
   "name": "python3"
  },
  "language_info": {
   "codemirror_mode": {
    "name": "ipython",
    "version": 3
   },
   "file_extension": ".py",
   "mimetype": "text/x-python",
   "name": "python",
   "nbconvert_exporter": "python",
   "pygments_lexer": "ipython3",
   "version": "3.8.8"
  }
 },
 "nbformat": 4,
 "nbformat_minor": 5
}
